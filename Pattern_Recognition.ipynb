{
  "nbformat": 4,
  "nbformat_minor": 0,
  "metadata": {
    "colab": {
      "provenance": [],
      "authorship_tag": "ABX9TyNatizGgABM5hz3QARZmNjr",
      "include_colab_link": true
    },
    "kernelspec": {
      "name": "python3",
      "display_name": "Python 3"
    },
    "language_info": {
      "name": "python"
    }
  },
  "cells": [
    {
      "cell_type": "markdown",
      "metadata": {
        "id": "view-in-github",
        "colab_type": "text"
      },
      "source": [
        "<a href=\"https://colab.research.google.com/github/Anderson-Andre-P/Pattern-Recognition/blob/main/Pattern_Recognition.ipynb\" target=\"_parent\"><img src=\"https://colab.research.google.com/assets/colab-badge.svg\" alt=\"Open In Colab\"/></a>"
      ]
    },
    {
      "cell_type": "code",
      "execution_count": null,
      "metadata": {
        "id": "g8euOer19oDS"
      },
      "outputs": [],
      "source": [
        "from google.colab import files\n",
        "import pandas as pd\n",
        "import numpy as np\n",
        "import matplotlib.pyplot as plt\n",
        "import seaborn as sns"
      ]
    },
    {
      "cell_type": "code",
      "source": [
        "from sklearn.model_selection import train_test_split"
      ],
      "metadata": {
        "id": "tI4qumhkDwXT"
      },
      "execution_count": null,
      "outputs": []
    },
    {
      "cell_type": "code",
      "source": [
        "from sklearn.preprocessing import MinMaxScaler"
      ],
      "metadata": {
        "id": "TzuKV59yF8HM"
      },
      "execution_count": null,
      "outputs": []
    },
    {
      "cell_type": "code",
      "source": [
        "from sklearn import preprocessing"
      ],
      "metadata": {
        "id": "ZdqBkqBmHP73"
      },
      "execution_count": null,
      "outputs": []
    },
    {
      "cell_type": "code",
      "source": [
        "from sklearn.preprocessing import StandardScaler\n",
        "from sklearn.preprocessing import MinMaxScaler"
      ],
      "metadata": {
        "id": "ARiQFMPqGmd6"
      },
      "execution_count": null,
      "outputs": []
    },
    {
      "cell_type": "code",
      "source": [
        "from sklearn.cluster import KMeans\n",
        "from sklearn.cluster import DBSCAN"
      ],
      "metadata": {
        "id": "oPAizdyWGUIq"
      },
      "execution_count": null,
      "outputs": []
    },
    {
      "cell_type": "code",
      "source": [
        "from sklearn.decomposition import PCA"
      ],
      "metadata": {
        "id": "YHv3x8hoKnLQ"
      },
      "execution_count": null,
      "outputs": []
    },
    {
      "cell_type": "code",
      "source": [
        "uploaded = files.upload()"
      ],
      "metadata": {
        "colab": {
          "base_uri": "https://localhost:8080/",
          "height": 73
        },
        "id": "L8BPgLC4CT8j",
        "outputId": "58b928b1-9492-4dae-b372-c1663245b040"
      },
      "execution_count": null,
      "outputs": [
        {
          "output_type": "display_data",
          "data": {
            "text/plain": [
              "<IPython.core.display.HTML object>"
            ],
            "text/html": [
              "\n",
              "     <input type=\"file\" id=\"files-b26d23c9-e70a-42e4-ab35-034e25b52f9b\" name=\"files[]\" multiple disabled\n",
              "        style=\"border:none\" />\n",
              "     <output id=\"result-b26d23c9-e70a-42e4-ab35-034e25b52f9b\">\n",
              "      Upload widget is only available when the cell has been executed in the\n",
              "      current browser session. Please rerun this cell to enable.\n",
              "      </output>\n",
              "      <script>// Copyright 2017 Google LLC\n",
              "//\n",
              "// Licensed under the Apache License, Version 2.0 (the \"License\");\n",
              "// you may not use this file except in compliance with the License.\n",
              "// You may obtain a copy of the License at\n",
              "//\n",
              "//      http://www.apache.org/licenses/LICENSE-2.0\n",
              "//\n",
              "// Unless required by applicable law or agreed to in writing, software\n",
              "// distributed under the License is distributed on an \"AS IS\" BASIS,\n",
              "// WITHOUT WARRANTIES OR CONDITIONS OF ANY KIND, either express or implied.\n",
              "// See the License for the specific language governing permissions and\n",
              "// limitations under the License.\n",
              "\n",
              "/**\n",
              " * @fileoverview Helpers for google.colab Python module.\n",
              " */\n",
              "(function(scope) {\n",
              "function span(text, styleAttributes = {}) {\n",
              "  const element = document.createElement('span');\n",
              "  element.textContent = text;\n",
              "  for (const key of Object.keys(styleAttributes)) {\n",
              "    element.style[key] = styleAttributes[key];\n",
              "  }\n",
              "  return element;\n",
              "}\n",
              "\n",
              "// Max number of bytes which will be uploaded at a time.\n",
              "const MAX_PAYLOAD_SIZE = 100 * 1024;\n",
              "\n",
              "function _uploadFiles(inputId, outputId) {\n",
              "  const steps = uploadFilesStep(inputId, outputId);\n",
              "  const outputElement = document.getElementById(outputId);\n",
              "  // Cache steps on the outputElement to make it available for the next call\n",
              "  // to uploadFilesContinue from Python.\n",
              "  outputElement.steps = steps;\n",
              "\n",
              "  return _uploadFilesContinue(outputId);\n",
              "}\n",
              "\n",
              "// This is roughly an async generator (not supported in the browser yet),\n",
              "// where there are multiple asynchronous steps and the Python side is going\n",
              "// to poll for completion of each step.\n",
              "// This uses a Promise to block the python side on completion of each step,\n",
              "// then passes the result of the previous step as the input to the next step.\n",
              "function _uploadFilesContinue(outputId) {\n",
              "  const outputElement = document.getElementById(outputId);\n",
              "  const steps = outputElement.steps;\n",
              "\n",
              "  const next = steps.next(outputElement.lastPromiseValue);\n",
              "  return Promise.resolve(next.value.promise).then((value) => {\n",
              "    // Cache the last promise value to make it available to the next\n",
              "    // step of the generator.\n",
              "    outputElement.lastPromiseValue = value;\n",
              "    return next.value.response;\n",
              "  });\n",
              "}\n",
              "\n",
              "/**\n",
              " * Generator function which is called between each async step of the upload\n",
              " * process.\n",
              " * @param {string} inputId Element ID of the input file picker element.\n",
              " * @param {string} outputId Element ID of the output display.\n",
              " * @return {!Iterable<!Object>} Iterable of next steps.\n",
              " */\n",
              "function* uploadFilesStep(inputId, outputId) {\n",
              "  const inputElement = document.getElementById(inputId);\n",
              "  inputElement.disabled = false;\n",
              "\n",
              "  const outputElement = document.getElementById(outputId);\n",
              "  outputElement.innerHTML = '';\n",
              "\n",
              "  const pickedPromise = new Promise((resolve) => {\n",
              "    inputElement.addEventListener('change', (e) => {\n",
              "      resolve(e.target.files);\n",
              "    });\n",
              "  });\n",
              "\n",
              "  const cancel = document.createElement('button');\n",
              "  inputElement.parentElement.appendChild(cancel);\n",
              "  cancel.textContent = 'Cancel upload';\n",
              "  const cancelPromise = new Promise((resolve) => {\n",
              "    cancel.onclick = () => {\n",
              "      resolve(null);\n",
              "    };\n",
              "  });\n",
              "\n",
              "  // Wait for the user to pick the files.\n",
              "  const files = yield {\n",
              "    promise: Promise.race([pickedPromise, cancelPromise]),\n",
              "    response: {\n",
              "      action: 'starting',\n",
              "    }\n",
              "  };\n",
              "\n",
              "  cancel.remove();\n",
              "\n",
              "  // Disable the input element since further picks are not allowed.\n",
              "  inputElement.disabled = true;\n",
              "\n",
              "  if (!files) {\n",
              "    return {\n",
              "      response: {\n",
              "        action: 'complete',\n",
              "      }\n",
              "    };\n",
              "  }\n",
              "\n",
              "  for (const file of files) {\n",
              "    const li = document.createElement('li');\n",
              "    li.append(span(file.name, {fontWeight: 'bold'}));\n",
              "    li.append(span(\n",
              "        `(${file.type || 'n/a'}) - ${file.size} bytes, ` +\n",
              "        `last modified: ${\n",
              "            file.lastModifiedDate ? file.lastModifiedDate.toLocaleDateString() :\n",
              "                                    'n/a'} - `));\n",
              "    const percent = span('0% done');\n",
              "    li.appendChild(percent);\n",
              "\n",
              "    outputElement.appendChild(li);\n",
              "\n",
              "    const fileDataPromise = new Promise((resolve) => {\n",
              "      const reader = new FileReader();\n",
              "      reader.onload = (e) => {\n",
              "        resolve(e.target.result);\n",
              "      };\n",
              "      reader.readAsArrayBuffer(file);\n",
              "    });\n",
              "    // Wait for the data to be ready.\n",
              "    let fileData = yield {\n",
              "      promise: fileDataPromise,\n",
              "      response: {\n",
              "        action: 'continue',\n",
              "      }\n",
              "    };\n",
              "\n",
              "    // Use a chunked sending to avoid message size limits. See b/62115660.\n",
              "    let position = 0;\n",
              "    do {\n",
              "      const length = Math.min(fileData.byteLength - position, MAX_PAYLOAD_SIZE);\n",
              "      const chunk = new Uint8Array(fileData, position, length);\n",
              "      position += length;\n",
              "\n",
              "      const base64 = btoa(String.fromCharCode.apply(null, chunk));\n",
              "      yield {\n",
              "        response: {\n",
              "          action: 'append',\n",
              "          file: file.name,\n",
              "          data: base64,\n",
              "        },\n",
              "      };\n",
              "\n",
              "      let percentDone = fileData.byteLength === 0 ?\n",
              "          100 :\n",
              "          Math.round((position / fileData.byteLength) * 100);\n",
              "      percent.textContent = `${percentDone}% done`;\n",
              "\n",
              "    } while (position < fileData.byteLength);\n",
              "  }\n",
              "\n",
              "  // All done.\n",
              "  yield {\n",
              "    response: {\n",
              "      action: 'complete',\n",
              "    }\n",
              "  };\n",
              "}\n",
              "\n",
              "scope.google = scope.google || {};\n",
              "scope.google.colab = scope.google.colab || {};\n",
              "scope.google.colab._files = {\n",
              "  _uploadFiles,\n",
              "  _uploadFilesContinue,\n",
              "};\n",
              "})(self);\n",
              "</script> "
            ]
          },
          "metadata": {}
        },
        {
          "output_type": "stream",
          "name": "stdout",
          "text": [
            "Saving 2023 QS World University Rankings.csv to 2023 QS World University Rankings (1).csv\n"
          ]
        }
      ]
    },
    {
      "cell_type": "code",
      "source": [
        "uri = \"/content/2023 QS World University Rankings.csv\""
      ],
      "metadata": {
        "id": "Z7y1F0J_CVmb"
      },
      "execution_count": null,
      "outputs": []
    },
    {
      "cell_type": "code",
      "source": [
        "df = pd.read_csv(uri)\n",
        "df.head()"
      ],
      "metadata": {
        "colab": {
          "base_uri": "https://localhost:8080/",
          "height": 421
        },
        "id": "UmW9QyzUCb6a",
        "outputId": "cb01e7a3-fab1-4965-b5ef-22cdb9d9341c"
      },
      "execution_count": null,
      "outputs": [
        {
          "output_type": "execute_result",
          "data": {
            "text/plain": [
              "  Rank                                   Institution LocationCode  \\\n",
              "0    1  Massachusetts Institute of Technology (MIT)            US   \n",
              "1    2                       University of Cambridge           UK   \n",
              "2    3                           Stanford University           US   \n",
              "3    4                          University of Oxford           UK   \n",
              "4    5                            Harvard University           US   \n",
              "\n",
              "         Location  ArScore  ArRank  ErScore  ErRank  FsrScore  FsrRank  ...  \\\n",
              "0   United States    100.0     5.0    100.0     4.0     100.0     14.0  ...   \n",
              "1  United Kingdom    100.0     2.0    100.0     2.0     100.0     11.0  ...   \n",
              "2   United States    100.0     4.0    100.0     5.0     100.0      6.0  ...   \n",
              "3  United Kingdom    100.0     3.0    100.0     3.0     100.0      8.0  ...   \n",
              "4   United States    100.0     1.0    100.0     1.0      99.4     35.0  ...   \n",
              "\n",
              "   CpfRank  IfrScore  IfrRank  IsrScore  IsrRank  IrnScore  IrnRank  GerScore  \\\n",
              "0      5.0     100.0     54.0      90.0    109.0      96.1     58.0     100.0   \n",
              "1     55.0     100.0     60.0      96.3     70.0      99.5      6.0     100.0   \n",
              "2      9.0      99.8     74.0      60.3    235.0      96.3     55.0     100.0   \n",
              "3     64.0      98.8    101.0      98.4     54.0      99.9      3.0     100.0   \n",
              "4      2.0      76.9    228.0      66.9    212.0     100.0      1.0     100.0   \n",
              "\n",
              "   GerRank  ScoreScaled  \n",
              "0      3.0          100  \n",
              "1      9.0         98.8  \n",
              "2      2.0         98.5  \n",
              "3      7.0         98.4  \n",
              "4      1.0         97.6  \n",
              "\n",
              "[5 rows x 21 columns]"
            ],
            "text/html": [
              "\n",
              "  <div id=\"df-55036c9b-f1a0-409e-bb49-9431daa9bd4f\">\n",
              "    <div class=\"colab-df-container\">\n",
              "      <div>\n",
              "<style scoped>\n",
              "    .dataframe tbody tr th:only-of-type {\n",
              "        vertical-align: middle;\n",
              "    }\n",
              "\n",
              "    .dataframe tbody tr th {\n",
              "        vertical-align: top;\n",
              "    }\n",
              "\n",
              "    .dataframe thead th {\n",
              "        text-align: right;\n",
              "    }\n",
              "</style>\n",
              "<table border=\"1\" class=\"dataframe\">\n",
              "  <thead>\n",
              "    <tr style=\"text-align: right;\">\n",
              "      <th></th>\n",
              "      <th>Rank</th>\n",
              "      <th>Institution</th>\n",
              "      <th>LocationCode</th>\n",
              "      <th>Location</th>\n",
              "      <th>ArScore</th>\n",
              "      <th>ArRank</th>\n",
              "      <th>ErScore</th>\n",
              "      <th>ErRank</th>\n",
              "      <th>FsrScore</th>\n",
              "      <th>FsrRank</th>\n",
              "      <th>...</th>\n",
              "      <th>CpfRank</th>\n",
              "      <th>IfrScore</th>\n",
              "      <th>IfrRank</th>\n",
              "      <th>IsrScore</th>\n",
              "      <th>IsrRank</th>\n",
              "      <th>IrnScore</th>\n",
              "      <th>IrnRank</th>\n",
              "      <th>GerScore</th>\n",
              "      <th>GerRank</th>\n",
              "      <th>ScoreScaled</th>\n",
              "    </tr>\n",
              "  </thead>\n",
              "  <tbody>\n",
              "    <tr>\n",
              "      <th>0</th>\n",
              "      <td>1</td>\n",
              "      <td>Massachusetts Institute of Technology (MIT)</td>\n",
              "      <td>US</td>\n",
              "      <td>United States</td>\n",
              "      <td>100.0</td>\n",
              "      <td>5.0</td>\n",
              "      <td>100.0</td>\n",
              "      <td>4.0</td>\n",
              "      <td>100.0</td>\n",
              "      <td>14.0</td>\n",
              "      <td>...</td>\n",
              "      <td>5.0</td>\n",
              "      <td>100.0</td>\n",
              "      <td>54.0</td>\n",
              "      <td>90.0</td>\n",
              "      <td>109.0</td>\n",
              "      <td>96.1</td>\n",
              "      <td>58.0</td>\n",
              "      <td>100.0</td>\n",
              "      <td>3.0</td>\n",
              "      <td>100</td>\n",
              "    </tr>\n",
              "    <tr>\n",
              "      <th>1</th>\n",
              "      <td>2</td>\n",
              "      <td>University of Cambridge</td>\n",
              "      <td>UK</td>\n",
              "      <td>United Kingdom</td>\n",
              "      <td>100.0</td>\n",
              "      <td>2.0</td>\n",
              "      <td>100.0</td>\n",
              "      <td>2.0</td>\n",
              "      <td>100.0</td>\n",
              "      <td>11.0</td>\n",
              "      <td>...</td>\n",
              "      <td>55.0</td>\n",
              "      <td>100.0</td>\n",
              "      <td>60.0</td>\n",
              "      <td>96.3</td>\n",
              "      <td>70.0</td>\n",
              "      <td>99.5</td>\n",
              "      <td>6.0</td>\n",
              "      <td>100.0</td>\n",
              "      <td>9.0</td>\n",
              "      <td>98.8</td>\n",
              "    </tr>\n",
              "    <tr>\n",
              "      <th>2</th>\n",
              "      <td>3</td>\n",
              "      <td>Stanford University</td>\n",
              "      <td>US</td>\n",
              "      <td>United States</td>\n",
              "      <td>100.0</td>\n",
              "      <td>4.0</td>\n",
              "      <td>100.0</td>\n",
              "      <td>5.0</td>\n",
              "      <td>100.0</td>\n",
              "      <td>6.0</td>\n",
              "      <td>...</td>\n",
              "      <td>9.0</td>\n",
              "      <td>99.8</td>\n",
              "      <td>74.0</td>\n",
              "      <td>60.3</td>\n",
              "      <td>235.0</td>\n",
              "      <td>96.3</td>\n",
              "      <td>55.0</td>\n",
              "      <td>100.0</td>\n",
              "      <td>2.0</td>\n",
              "      <td>98.5</td>\n",
              "    </tr>\n",
              "    <tr>\n",
              "      <th>3</th>\n",
              "      <td>4</td>\n",
              "      <td>University of Oxford</td>\n",
              "      <td>UK</td>\n",
              "      <td>United Kingdom</td>\n",
              "      <td>100.0</td>\n",
              "      <td>3.0</td>\n",
              "      <td>100.0</td>\n",
              "      <td>3.0</td>\n",
              "      <td>100.0</td>\n",
              "      <td>8.0</td>\n",
              "      <td>...</td>\n",
              "      <td>64.0</td>\n",
              "      <td>98.8</td>\n",
              "      <td>101.0</td>\n",
              "      <td>98.4</td>\n",
              "      <td>54.0</td>\n",
              "      <td>99.9</td>\n",
              "      <td>3.0</td>\n",
              "      <td>100.0</td>\n",
              "      <td>7.0</td>\n",
              "      <td>98.4</td>\n",
              "    </tr>\n",
              "    <tr>\n",
              "      <th>4</th>\n",
              "      <td>5</td>\n",
              "      <td>Harvard University</td>\n",
              "      <td>US</td>\n",
              "      <td>United States</td>\n",
              "      <td>100.0</td>\n",
              "      <td>1.0</td>\n",
              "      <td>100.0</td>\n",
              "      <td>1.0</td>\n",
              "      <td>99.4</td>\n",
              "      <td>35.0</td>\n",
              "      <td>...</td>\n",
              "      <td>2.0</td>\n",
              "      <td>76.9</td>\n",
              "      <td>228.0</td>\n",
              "      <td>66.9</td>\n",
              "      <td>212.0</td>\n",
              "      <td>100.0</td>\n",
              "      <td>1.0</td>\n",
              "      <td>100.0</td>\n",
              "      <td>1.0</td>\n",
              "      <td>97.6</td>\n",
              "    </tr>\n",
              "  </tbody>\n",
              "</table>\n",
              "<p>5 rows × 21 columns</p>\n",
              "</div>\n",
              "      <button class=\"colab-df-convert\" onclick=\"convertToInteractive('df-55036c9b-f1a0-409e-bb49-9431daa9bd4f')\"\n",
              "              title=\"Convert this dataframe to an interactive table.\"\n",
              "              style=\"display:none;\">\n",
              "        \n",
              "  <svg xmlns=\"http://www.w3.org/2000/svg\" height=\"24px\"viewBox=\"0 0 24 24\"\n",
              "       width=\"24px\">\n",
              "    <path d=\"M0 0h24v24H0V0z\" fill=\"none\"/>\n",
              "    <path d=\"M18.56 5.44l.94 2.06.94-2.06 2.06-.94-2.06-.94-.94-2.06-.94 2.06-2.06.94zm-11 1L8.5 8.5l.94-2.06 2.06-.94-2.06-.94L8.5 2.5l-.94 2.06-2.06.94zm10 10l.94 2.06.94-2.06 2.06-.94-2.06-.94-.94-2.06-.94 2.06-2.06.94z\"/><path d=\"M17.41 7.96l-1.37-1.37c-.4-.4-.92-.59-1.43-.59-.52 0-1.04.2-1.43.59L10.3 9.45l-7.72 7.72c-.78.78-.78 2.05 0 2.83L4 21.41c.39.39.9.59 1.41.59.51 0 1.02-.2 1.41-.59l7.78-7.78 2.81-2.81c.8-.78.8-2.07 0-2.86zM5.41 20L4 18.59l7.72-7.72 1.47 1.35L5.41 20z\"/>\n",
              "  </svg>\n",
              "      </button>\n",
              "      \n",
              "  <style>\n",
              "    .colab-df-container {\n",
              "      display:flex;\n",
              "      flex-wrap:wrap;\n",
              "      gap: 12px;\n",
              "    }\n",
              "\n",
              "    .colab-df-convert {\n",
              "      background-color: #E8F0FE;\n",
              "      border: none;\n",
              "      border-radius: 50%;\n",
              "      cursor: pointer;\n",
              "      display: none;\n",
              "      fill: #1967D2;\n",
              "      height: 32px;\n",
              "      padding: 0 0 0 0;\n",
              "      width: 32px;\n",
              "    }\n",
              "\n",
              "    .colab-df-convert:hover {\n",
              "      background-color: #E2EBFA;\n",
              "      box-shadow: 0px 1px 2px rgba(60, 64, 67, 0.3), 0px 1px 3px 1px rgba(60, 64, 67, 0.15);\n",
              "      fill: #174EA6;\n",
              "    }\n",
              "\n",
              "    [theme=dark] .colab-df-convert {\n",
              "      background-color: #3B4455;\n",
              "      fill: #D2E3FC;\n",
              "    }\n",
              "\n",
              "    [theme=dark] .colab-df-convert:hover {\n",
              "      background-color: #434B5C;\n",
              "      box-shadow: 0px 1px 3px 1px rgba(0, 0, 0, 0.15);\n",
              "      filter: drop-shadow(0px 1px 2px rgba(0, 0, 0, 0.3));\n",
              "      fill: #FFFFFF;\n",
              "    }\n",
              "  </style>\n",
              "\n",
              "      <script>\n",
              "        const buttonEl =\n",
              "          document.querySelector('#df-55036c9b-f1a0-409e-bb49-9431daa9bd4f button.colab-df-convert');\n",
              "        buttonEl.style.display =\n",
              "          google.colab.kernel.accessAllowed ? 'block' : 'none';\n",
              "\n",
              "        async function convertToInteractive(key) {\n",
              "          const element = document.querySelector('#df-55036c9b-f1a0-409e-bb49-9431daa9bd4f');\n",
              "          const dataTable =\n",
              "            await google.colab.kernel.invokeFunction('convertToInteractive',\n",
              "                                                     [key], {});\n",
              "          if (!dataTable) return;\n",
              "\n",
              "          const docLinkHtml = 'Like what you see? Visit the ' +\n",
              "            '<a target=\"_blank\" href=https://colab.research.google.com/notebooks/data_table.ipynb>data table notebook</a>'\n",
              "            + ' to learn more about interactive tables.';\n",
              "          element.innerHTML = '';\n",
              "          dataTable['output_type'] = 'display_data';\n",
              "          await google.colab.output.renderOutput(dataTable, element);\n",
              "          const docLink = document.createElement('div');\n",
              "          docLink.innerHTML = docLinkHtml;\n",
              "          element.appendChild(docLink);\n",
              "        }\n",
              "      </script>\n",
              "    </div>\n",
              "  </div>\n",
              "  "
            ]
          },
          "metadata": {},
          "execution_count": 83
        }
      ]
    },
    {
      "cell_type": "code",
      "source": [
        "df.shape"
      ],
      "metadata": {
        "colab": {
          "base_uri": "https://localhost:8080/"
        },
        "id": "ziQmZinDCfq6",
        "outputId": "5ece757e-c4e8-4e3e-9910-7e274f1103ba"
      },
      "execution_count": null,
      "outputs": [
        {
          "output_type": "execute_result",
          "data": {
            "text/plain": [
              "(1422, 21)"
            ]
          },
          "metadata": {},
          "execution_count": 84
        }
      ]
    },
    {
      "cell_type": "code",
      "source": [
        "df.isna().sum()"
      ],
      "metadata": {
        "colab": {
          "base_uri": "https://localhost:8080/"
        },
        "id": "x88-OqiuCkc6",
        "outputId": "9e91496e-b721-440d-90ea-70852e1683ff"
      },
      "execution_count": null,
      "outputs": [
        {
          "output_type": "execute_result",
          "data": {
            "text/plain": [
              "Rank              0\n",
              "Institution      59\n",
              "LocationCode     59\n",
              "Location         59\n",
              "ArScore          59\n",
              "ArRank           59\n",
              "ErScore          60\n",
              "ErRank           59\n",
              "FsrScore         61\n",
              "FsrRank          59\n",
              "CpfScore         64\n",
              "CpfRank          59\n",
              "IfrScore        154\n",
              "IfrRank         154\n",
              "IsrScore        115\n",
              "IsrRank         115\n",
              "IrnScore         72\n",
              "IrnRank          72\n",
              "GerScore         71\n",
              "GerRank          71\n",
              "ScoreScaled      59\n",
              "dtype: int64"
            ]
          },
          "metadata": {},
          "execution_count": 85
        }
      ]
    },
    {
      "cell_type": "code",
      "source": [
        "df['IfrRank']"
      ],
      "metadata": {
        "colab": {
          "base_uri": "https://localhost:8080/"
        },
        "id": "VeQwANaMJwn6",
        "outputId": "b155900b-438b-4230-ed78-af75c0b30045"
      },
      "execution_count": null,
      "outputs": [
        {
          "output_type": "execute_result",
          "data": {
            "text/plain": [
              "0        54.0\n",
              "1        60.0\n",
              "2        74.0\n",
              "3       101.0\n",
              "4       228.0\n",
              "        ...  \n",
              "1417    601.0\n",
              "1418    601.0\n",
              "1419    601.0\n",
              "1420      NaN\n",
              "1421    601.0\n",
              "Name: IfrRank, Length: 1422, dtype: float64"
            ]
          },
          "metadata": {},
          "execution_count": 86
        }
      ]
    },
    {
      "cell_type": "code",
      "source": [
        "# df = df.drop(columns=['ErRank'])\n",
        "# df = df.drop(columns=['IfrRank'])"
      ],
      "metadata": {
        "id": "dKTPR8WaJ0uy"
      },
      "execution_count": null,
      "outputs": []
    },
    {
      "cell_type": "code",
      "source": [
        "df.shape"
      ],
      "metadata": {
        "colab": {
          "base_uri": "https://localhost:8080/"
        },
        "id": "iK1bscltKEYz",
        "outputId": "39cd0ca5-1179-427d-a08f-b25903ed5edf"
      },
      "execution_count": null,
      "outputs": [
        {
          "output_type": "execute_result",
          "data": {
            "text/plain": [
              "(1422, 21)"
            ]
          },
          "metadata": {},
          "execution_count": 88
        }
      ]
    },
    {
      "cell_type": "code",
      "source": [
        "df2 = df.dropna(inplace=True)"
      ],
      "metadata": {
        "id": "zAJGky3vCm1i"
      },
      "execution_count": null,
      "outputs": []
    },
    {
      "cell_type": "code",
      "source": [
        "df.shape"
      ],
      "metadata": {
        "colab": {
          "base_uri": "https://localhost:8080/"
        },
        "id": "gbpCEKv0CqQj",
        "outputId": "1d5d4129-9630-41b4-b2c2-b7b080fb3480"
      },
      "execution_count": null,
      "outputs": [
        {
          "output_type": "execute_result",
          "data": {
            "text/plain": [
              "(1247, 21)"
            ]
          },
          "metadata": {},
          "execution_count": 90
        }
      ]
    },
    {
      "cell_type": "code",
      "source": [
        "df2 = df"
      ],
      "metadata": {
        "id": "mRrNYiptFmxC"
      },
      "execution_count": null,
      "outputs": []
    },
    {
      "cell_type": "code",
      "source": [
        "df2.info()"
      ],
      "metadata": {
        "colab": {
          "base_uri": "https://localhost:8080/"
        },
        "id": "fMgUDgTDCvXK",
        "outputId": "826cba26-3472-45d8-96c9-8b9f9b13d517"
      },
      "execution_count": null,
      "outputs": [
        {
          "output_type": "stream",
          "name": "stdout",
          "text": [
            "<class 'pandas.core.frame.DataFrame'>\n",
            "Int64Index: 1247 entries, 0 to 1421\n",
            "Data columns (total 21 columns):\n",
            " #   Column        Non-Null Count  Dtype  \n",
            "---  ------        --------------  -----  \n",
            " 0   Rank          1247 non-null   object \n",
            " 1   Institution   1247 non-null   object \n",
            " 2   LocationCode  1247 non-null   object \n",
            " 3   Location      1247 non-null   object \n",
            " 4   ArScore       1247 non-null   float64\n",
            " 5   ArRank        1247 non-null   float64\n",
            " 6   ErScore       1247 non-null   float64\n",
            " 7   ErRank        1247 non-null   float64\n",
            " 8   FsrScore      1247 non-null   float64\n",
            " 9   FsrRank       1247 non-null   float64\n",
            " 10  CpfScore      1247 non-null   float64\n",
            " 11  CpfRank       1247 non-null   float64\n",
            " 12  IfrScore      1247 non-null   float64\n",
            " 13  IfrRank       1247 non-null   float64\n",
            " 14  IsrScore      1247 non-null   float64\n",
            " 15  IsrRank       1247 non-null   float64\n",
            " 16  IrnScore      1247 non-null   float64\n",
            " 17  IrnRank       1247 non-null   float64\n",
            " 18  GerScore      1247 non-null   float64\n",
            " 19  GerRank       1247 non-null   float64\n",
            " 20  ScoreScaled   1247 non-null   object \n",
            "dtypes: float64(16), object(5)\n",
            "memory usage: 214.3+ KB\n"
          ]
        }
      ]
    },
    {
      "cell_type": "code",
      "source": [
        "df2.describe()"
      ],
      "metadata": {
        "colab": {
          "base_uri": "https://localhost:8080/",
          "height": 364
        },
        "id": "j24sHVl-CyTK",
        "outputId": "0ff63393-637d-4e7e-8fd9-d573796fc0bb"
      },
      "execution_count": null,
      "outputs": [
        {
          "output_type": "execute_result",
          "data": {
            "text/plain": [
              "           ArScore       ArRank      ErScore       ErRank     FsrScore  \\\n",
              "count  1247.000000  1247.000000  1247.000000  1247.000000  1247.000000   \n",
              "mean     21.254691   405.601443    21.897755   405.693665    30.733119   \n",
              "std      23.284179   150.774408    24.683436   151.451736    28.476339   \n",
              "min       1.000000     1.000000     1.000000     1.000000     1.000000   \n",
              "25%       5.800000   328.500000     4.700000   328.500000     8.400000   \n",
              "50%      11.700000   501.000000    11.200000   501.000000    19.100000   \n",
              "75%      25.900000   501.000000    29.400000   501.000000    45.600000   \n",
              "max     100.000000   501.000000   100.000000   501.000000   100.000000   \n",
              "\n",
              "           FsrRank     CpfScore      CpfRank     IfrScore      IfrRank  \\\n",
              "count  1247.000000  1247.000000  1247.000000  1247.000000  1247.000000   \n",
              "mean    469.235766    25.000962   470.874098    31.800241   464.378508   \n",
              "std     188.680989    27.751478   186.185713    34.152712   190.082882   \n",
              "min       1.000000     1.000000     1.000000     1.000000     1.000000   \n",
              "25%     338.500000     3.300000   348.500000     5.000000   331.500000   \n",
              "50%     601.000000    12.500000   601.000000    13.900000   601.000000   \n",
              "75%     601.000000    40.550000   601.000000    55.150000   601.000000   \n",
              "max     601.000000   100.000000   601.000000   100.000000   601.000000   \n",
              "\n",
              "          IsrScore      IsrRank     IrnScore      IrnRank     GerScore  \\\n",
              "count  1247.000000  1247.000000  1247.000000  1247.000000  1247.000000   \n",
              "mean     27.312109   464.308741    50.905213   465.293504    26.785726   \n",
              "std      31.177725   190.164506    30.346440   190.707188    26.441214   \n",
              "min       1.000000     1.000000     1.000000     1.000000     1.000000   \n",
              "25%       3.400000   330.500000    23.300000   330.000000     7.000000   \n",
              "50%      11.800000   601.000000    51.700000   601.000000    16.300000   \n",
              "75%      41.850000   601.000000    79.200000   601.000000    37.600000   \n",
              "max     100.000000   601.000000   100.000000   601.000000   100.000000   \n",
              "\n",
              "           GerRank  \n",
              "count  1247.000000  \n",
              "mean    469.240577  \n",
              "std     188.769008  \n",
              "min       1.000000  \n",
              "25%     343.500000  \n",
              "50%     601.000000  \n",
              "75%     601.000000  \n",
              "max     601.000000  "
            ],
            "text/html": [
              "\n",
              "  <div id=\"df-4d42a9d0-4797-41b7-b03d-7e6ca5919939\">\n",
              "    <div class=\"colab-df-container\">\n",
              "      <div>\n",
              "<style scoped>\n",
              "    .dataframe tbody tr th:only-of-type {\n",
              "        vertical-align: middle;\n",
              "    }\n",
              "\n",
              "    .dataframe tbody tr th {\n",
              "        vertical-align: top;\n",
              "    }\n",
              "\n",
              "    .dataframe thead th {\n",
              "        text-align: right;\n",
              "    }\n",
              "</style>\n",
              "<table border=\"1\" class=\"dataframe\">\n",
              "  <thead>\n",
              "    <tr style=\"text-align: right;\">\n",
              "      <th></th>\n",
              "      <th>ArScore</th>\n",
              "      <th>ArRank</th>\n",
              "      <th>ErScore</th>\n",
              "      <th>ErRank</th>\n",
              "      <th>FsrScore</th>\n",
              "      <th>FsrRank</th>\n",
              "      <th>CpfScore</th>\n",
              "      <th>CpfRank</th>\n",
              "      <th>IfrScore</th>\n",
              "      <th>IfrRank</th>\n",
              "      <th>IsrScore</th>\n",
              "      <th>IsrRank</th>\n",
              "      <th>IrnScore</th>\n",
              "      <th>IrnRank</th>\n",
              "      <th>GerScore</th>\n",
              "      <th>GerRank</th>\n",
              "    </tr>\n",
              "  </thead>\n",
              "  <tbody>\n",
              "    <tr>\n",
              "      <th>count</th>\n",
              "      <td>1247.000000</td>\n",
              "      <td>1247.000000</td>\n",
              "      <td>1247.000000</td>\n",
              "      <td>1247.000000</td>\n",
              "      <td>1247.000000</td>\n",
              "      <td>1247.000000</td>\n",
              "      <td>1247.000000</td>\n",
              "      <td>1247.000000</td>\n",
              "      <td>1247.000000</td>\n",
              "      <td>1247.000000</td>\n",
              "      <td>1247.000000</td>\n",
              "      <td>1247.000000</td>\n",
              "      <td>1247.000000</td>\n",
              "      <td>1247.000000</td>\n",
              "      <td>1247.000000</td>\n",
              "      <td>1247.000000</td>\n",
              "    </tr>\n",
              "    <tr>\n",
              "      <th>mean</th>\n",
              "      <td>21.254691</td>\n",
              "      <td>405.601443</td>\n",
              "      <td>21.897755</td>\n",
              "      <td>405.693665</td>\n",
              "      <td>30.733119</td>\n",
              "      <td>469.235766</td>\n",
              "      <td>25.000962</td>\n",
              "      <td>470.874098</td>\n",
              "      <td>31.800241</td>\n",
              "      <td>464.378508</td>\n",
              "      <td>27.312109</td>\n",
              "      <td>464.308741</td>\n",
              "      <td>50.905213</td>\n",
              "      <td>465.293504</td>\n",
              "      <td>26.785726</td>\n",
              "      <td>469.240577</td>\n",
              "    </tr>\n",
              "    <tr>\n",
              "      <th>std</th>\n",
              "      <td>23.284179</td>\n",
              "      <td>150.774408</td>\n",
              "      <td>24.683436</td>\n",
              "      <td>151.451736</td>\n",
              "      <td>28.476339</td>\n",
              "      <td>188.680989</td>\n",
              "      <td>27.751478</td>\n",
              "      <td>186.185713</td>\n",
              "      <td>34.152712</td>\n",
              "      <td>190.082882</td>\n",
              "      <td>31.177725</td>\n",
              "      <td>190.164506</td>\n",
              "      <td>30.346440</td>\n",
              "      <td>190.707188</td>\n",
              "      <td>26.441214</td>\n",
              "      <td>188.769008</td>\n",
              "    </tr>\n",
              "    <tr>\n",
              "      <th>min</th>\n",
              "      <td>1.000000</td>\n",
              "      <td>1.000000</td>\n",
              "      <td>1.000000</td>\n",
              "      <td>1.000000</td>\n",
              "      <td>1.000000</td>\n",
              "      <td>1.000000</td>\n",
              "      <td>1.000000</td>\n",
              "      <td>1.000000</td>\n",
              "      <td>1.000000</td>\n",
              "      <td>1.000000</td>\n",
              "      <td>1.000000</td>\n",
              "      <td>1.000000</td>\n",
              "      <td>1.000000</td>\n",
              "      <td>1.000000</td>\n",
              "      <td>1.000000</td>\n",
              "      <td>1.000000</td>\n",
              "    </tr>\n",
              "    <tr>\n",
              "      <th>25%</th>\n",
              "      <td>5.800000</td>\n",
              "      <td>328.500000</td>\n",
              "      <td>4.700000</td>\n",
              "      <td>328.500000</td>\n",
              "      <td>8.400000</td>\n",
              "      <td>338.500000</td>\n",
              "      <td>3.300000</td>\n",
              "      <td>348.500000</td>\n",
              "      <td>5.000000</td>\n",
              "      <td>331.500000</td>\n",
              "      <td>3.400000</td>\n",
              "      <td>330.500000</td>\n",
              "      <td>23.300000</td>\n",
              "      <td>330.000000</td>\n",
              "      <td>7.000000</td>\n",
              "      <td>343.500000</td>\n",
              "    </tr>\n",
              "    <tr>\n",
              "      <th>50%</th>\n",
              "      <td>11.700000</td>\n",
              "      <td>501.000000</td>\n",
              "      <td>11.200000</td>\n",
              "      <td>501.000000</td>\n",
              "      <td>19.100000</td>\n",
              "      <td>601.000000</td>\n",
              "      <td>12.500000</td>\n",
              "      <td>601.000000</td>\n",
              "      <td>13.900000</td>\n",
              "      <td>601.000000</td>\n",
              "      <td>11.800000</td>\n",
              "      <td>601.000000</td>\n",
              "      <td>51.700000</td>\n",
              "      <td>601.000000</td>\n",
              "      <td>16.300000</td>\n",
              "      <td>601.000000</td>\n",
              "    </tr>\n",
              "    <tr>\n",
              "      <th>75%</th>\n",
              "      <td>25.900000</td>\n",
              "      <td>501.000000</td>\n",
              "      <td>29.400000</td>\n",
              "      <td>501.000000</td>\n",
              "      <td>45.600000</td>\n",
              "      <td>601.000000</td>\n",
              "      <td>40.550000</td>\n",
              "      <td>601.000000</td>\n",
              "      <td>55.150000</td>\n",
              "      <td>601.000000</td>\n",
              "      <td>41.850000</td>\n",
              "      <td>601.000000</td>\n",
              "      <td>79.200000</td>\n",
              "      <td>601.000000</td>\n",
              "      <td>37.600000</td>\n",
              "      <td>601.000000</td>\n",
              "    </tr>\n",
              "    <tr>\n",
              "      <th>max</th>\n",
              "      <td>100.000000</td>\n",
              "      <td>501.000000</td>\n",
              "      <td>100.000000</td>\n",
              "      <td>501.000000</td>\n",
              "      <td>100.000000</td>\n",
              "      <td>601.000000</td>\n",
              "      <td>100.000000</td>\n",
              "      <td>601.000000</td>\n",
              "      <td>100.000000</td>\n",
              "      <td>601.000000</td>\n",
              "      <td>100.000000</td>\n",
              "      <td>601.000000</td>\n",
              "      <td>100.000000</td>\n",
              "      <td>601.000000</td>\n",
              "      <td>100.000000</td>\n",
              "      <td>601.000000</td>\n",
              "    </tr>\n",
              "  </tbody>\n",
              "</table>\n",
              "</div>\n",
              "      <button class=\"colab-df-convert\" onclick=\"convertToInteractive('df-4d42a9d0-4797-41b7-b03d-7e6ca5919939')\"\n",
              "              title=\"Convert this dataframe to an interactive table.\"\n",
              "              style=\"display:none;\">\n",
              "        \n",
              "  <svg xmlns=\"http://www.w3.org/2000/svg\" height=\"24px\"viewBox=\"0 0 24 24\"\n",
              "       width=\"24px\">\n",
              "    <path d=\"M0 0h24v24H0V0z\" fill=\"none\"/>\n",
              "    <path d=\"M18.56 5.44l.94 2.06.94-2.06 2.06-.94-2.06-.94-.94-2.06-.94 2.06-2.06.94zm-11 1L8.5 8.5l.94-2.06 2.06-.94-2.06-.94L8.5 2.5l-.94 2.06-2.06.94zm10 10l.94 2.06.94-2.06 2.06-.94-2.06-.94-.94-2.06-.94 2.06-2.06.94z\"/><path d=\"M17.41 7.96l-1.37-1.37c-.4-.4-.92-.59-1.43-.59-.52 0-1.04.2-1.43.59L10.3 9.45l-7.72 7.72c-.78.78-.78 2.05 0 2.83L4 21.41c.39.39.9.59 1.41.59.51 0 1.02-.2 1.41-.59l7.78-7.78 2.81-2.81c.8-.78.8-2.07 0-2.86zM5.41 20L4 18.59l7.72-7.72 1.47 1.35L5.41 20z\"/>\n",
              "  </svg>\n",
              "      </button>\n",
              "      \n",
              "  <style>\n",
              "    .colab-df-container {\n",
              "      display:flex;\n",
              "      flex-wrap:wrap;\n",
              "      gap: 12px;\n",
              "    }\n",
              "\n",
              "    .colab-df-convert {\n",
              "      background-color: #E8F0FE;\n",
              "      border: none;\n",
              "      border-radius: 50%;\n",
              "      cursor: pointer;\n",
              "      display: none;\n",
              "      fill: #1967D2;\n",
              "      height: 32px;\n",
              "      padding: 0 0 0 0;\n",
              "      width: 32px;\n",
              "    }\n",
              "\n",
              "    .colab-df-convert:hover {\n",
              "      background-color: #E2EBFA;\n",
              "      box-shadow: 0px 1px 2px rgba(60, 64, 67, 0.3), 0px 1px 3px 1px rgba(60, 64, 67, 0.15);\n",
              "      fill: #174EA6;\n",
              "    }\n",
              "\n",
              "    [theme=dark] .colab-df-convert {\n",
              "      background-color: #3B4455;\n",
              "      fill: #D2E3FC;\n",
              "    }\n",
              "\n",
              "    [theme=dark] .colab-df-convert:hover {\n",
              "      background-color: #434B5C;\n",
              "      box-shadow: 0px 1px 3px 1px rgba(0, 0, 0, 0.15);\n",
              "      filter: drop-shadow(0px 1px 2px rgba(0, 0, 0, 0.3));\n",
              "      fill: #FFFFFF;\n",
              "    }\n",
              "  </style>\n",
              "\n",
              "      <script>\n",
              "        const buttonEl =\n",
              "          document.querySelector('#df-4d42a9d0-4797-41b7-b03d-7e6ca5919939 button.colab-df-convert');\n",
              "        buttonEl.style.display =\n",
              "          google.colab.kernel.accessAllowed ? 'block' : 'none';\n",
              "\n",
              "        async function convertToInteractive(key) {\n",
              "          const element = document.querySelector('#df-4d42a9d0-4797-41b7-b03d-7e6ca5919939');\n",
              "          const dataTable =\n",
              "            await google.colab.kernel.invokeFunction('convertToInteractive',\n",
              "                                                     [key], {});\n",
              "          if (!dataTable) return;\n",
              "\n",
              "          const docLinkHtml = 'Like what you see? Visit the ' +\n",
              "            '<a target=\"_blank\" href=https://colab.research.google.com/notebooks/data_table.ipynb>data table notebook</a>'\n",
              "            + ' to learn more about interactive tables.';\n",
              "          element.innerHTML = '';\n",
              "          dataTable['output_type'] = 'display_data';\n",
              "          await google.colab.output.renderOutput(dataTable, element);\n",
              "          const docLink = document.createElement('div');\n",
              "          docLink.innerHTML = docLinkHtml;\n",
              "          element.appendChild(docLink);\n",
              "        }\n",
              "      </script>\n",
              "    </div>\n",
              "  </div>\n",
              "  "
            ]
          },
          "metadata": {},
          "execution_count": 93
        }
      ]
    },
    {
      "cell_type": "code",
      "source": [
        "df2.duplicated()"
      ],
      "metadata": {
        "colab": {
          "base_uri": "https://localhost:8080/"
        },
        "id": "HcJWNTn_C1fr",
        "outputId": "a95d5633-e239-4d5b-9dc6-3c4173639300"
      },
      "execution_count": null,
      "outputs": [
        {
          "output_type": "execute_result",
          "data": {
            "text/plain": [
              "0       False\n",
              "1       False\n",
              "2       False\n",
              "3       False\n",
              "4       False\n",
              "        ...  \n",
              "1406    False\n",
              "1408    False\n",
              "1412    False\n",
              "1418    False\n",
              "1421    False\n",
              "Length: 1247, dtype: bool"
            ]
          },
          "metadata": {},
          "execution_count": 94
        }
      ]
    },
    {
      "cell_type": "code",
      "source": [
        "corr = df2.corr()"
      ],
      "metadata": {
        "id": "voHJqdqeC6Tq"
      },
      "execution_count": null,
      "outputs": []
    },
    {
      "cell_type": "code",
      "source": [
        "corr"
      ],
      "metadata": {
        "colab": {
          "base_uri": "https://localhost:8080/",
          "height": 615
        },
        "id": "uZgwa5TQDC5y",
        "outputId": "a43f71ed-8346-47b7-ef8a-76046346714b"
      },
      "execution_count": null,
      "outputs": [
        {
          "output_type": "execute_result",
          "data": {
            "text/plain": [
              "           ArScore    ArRank   ErScore    ErRank  FsrScore   FsrRank  \\\n",
              "ArScore   1.000000 -0.961467  0.839224 -0.798832  0.386934 -0.379851   \n",
              "ArRank   -0.961467  1.000000 -0.802310  0.783904 -0.371249  0.365318   \n",
              "ErScore   0.839224 -0.802310  1.000000 -0.970900  0.356681 -0.349258   \n",
              "ErRank   -0.798832  0.783904 -0.970900  1.000000 -0.329248  0.323723   \n",
              "FsrScore  0.386934 -0.371249  0.356681 -0.329248  1.000000 -0.982472   \n",
              "FsrRank  -0.379851  0.365318 -0.349258  0.323723 -0.982472  1.000000   \n",
              "CpfScore  0.566155 -0.555295  0.431294 -0.415520  0.131013 -0.125882   \n",
              "CpfRank  -0.563104  0.553649 -0.433089  0.418193 -0.119692  0.114001   \n",
              "IfrScore  0.395697 -0.389543  0.356700 -0.334295  0.182854 -0.173803   \n",
              "IfrRank  -0.375458  0.368964 -0.335801  0.315191 -0.168831  0.159279   \n",
              "IsrScore  0.393938 -0.377499  0.365937 -0.343953  0.236357 -0.231691   \n",
              "IsrRank  -0.389907  0.373950 -0.364819  0.344028 -0.228403  0.224001   \n",
              "IrnScore  0.611973 -0.620839  0.413478 -0.397970  0.154252 -0.155213   \n",
              "IrnRank  -0.681504  0.691751 -0.468329  0.452352 -0.193651  0.193762   \n",
              "GerScore  0.569152 -0.535364  0.575176 -0.547029  0.299399 -0.282769   \n",
              "GerRank  -0.561662  0.535250 -0.561687  0.539877 -0.287153  0.271224   \n",
              "\n",
              "          CpfScore   CpfRank  IfrScore   IfrRank  IsrScore   IsrRank  \\\n",
              "ArScore   0.566155 -0.563104  0.395697 -0.375458  0.393938 -0.389907   \n",
              "ArRank   -0.555295  0.553649 -0.389543  0.368964 -0.377499  0.373950   \n",
              "ErScore   0.431294 -0.433089  0.356700 -0.335801  0.365937 -0.364819   \n",
              "ErRank   -0.415520  0.418193 -0.334295  0.315191 -0.343953  0.344028   \n",
              "FsrScore  0.131013 -0.119692  0.182854 -0.168831  0.236357 -0.228403   \n",
              "FsrRank  -0.125882  0.114001 -0.173803  0.159279 -0.231691  0.224001   \n",
              "CpfScore  1.000000 -0.986306  0.441585 -0.432709  0.371739 -0.362746   \n",
              "CpfRank  -0.986306  1.000000 -0.438456  0.429998 -0.368667  0.361758   \n",
              "IfrScore  0.441585 -0.438456  1.000000 -0.990522  0.711052 -0.705149   \n",
              "IfrRank  -0.432709  0.429998 -0.990522  1.000000 -0.701595  0.697724   \n",
              "IsrScore  0.371739 -0.368667  0.711052 -0.701595  1.000000 -0.990616   \n",
              "IsrRank  -0.362746  0.361758 -0.705149  0.697724 -0.990616  1.000000   \n",
              "IrnScore  0.601888 -0.570065  0.399599 -0.376042  0.363320 -0.349512   \n",
              "IrnRank  -0.555411  0.548166 -0.438511  0.415545 -0.393909  0.380799   \n",
              "GerScore  0.364862 -0.362061  0.330761 -0.325058  0.314048 -0.310649   \n",
              "GerRank  -0.352067  0.350846 -0.332630  0.327764 -0.312152  0.309443   \n",
              "\n",
              "          IrnScore   IrnRank  GerScore   GerRank  \n",
              "ArScore   0.611973 -0.681504  0.569152 -0.561662  \n",
              "ArRank   -0.620839  0.691751 -0.535364  0.535250  \n",
              "ErScore   0.413478 -0.468329  0.575176 -0.561687  \n",
              "ErRank   -0.397970  0.452352 -0.547029  0.539877  \n",
              "FsrScore  0.154252 -0.193651  0.299399 -0.287153  \n",
              "FsrRank  -0.155213  0.193762 -0.282769  0.271224  \n",
              "CpfScore  0.601888 -0.555411  0.364862 -0.352067  \n",
              "CpfRank  -0.570065  0.548166 -0.362061  0.350846  \n",
              "IfrScore  0.399599 -0.438511  0.330761 -0.332630  \n",
              "IfrRank  -0.376042  0.415545 -0.325058  0.327764  \n",
              "IsrScore  0.363320 -0.393909  0.314048 -0.312152  \n",
              "IsrRank  -0.349512  0.380799 -0.310649  0.309443  \n",
              "IrnScore  1.000000 -0.855051  0.257993 -0.254635  \n",
              "IrnRank  -0.855051  1.000000 -0.333111  0.331683  \n",
              "GerScore  0.257993 -0.333111  1.000000 -0.978486  \n",
              "GerRank  -0.254635  0.331683 -0.978486  1.000000  "
            ],
            "text/html": [
              "\n",
              "  <div id=\"df-3f0759aa-c5ee-4e06-ad18-bba0a0a32536\">\n",
              "    <div class=\"colab-df-container\">\n",
              "      <div>\n",
              "<style scoped>\n",
              "    .dataframe tbody tr th:only-of-type {\n",
              "        vertical-align: middle;\n",
              "    }\n",
              "\n",
              "    .dataframe tbody tr th {\n",
              "        vertical-align: top;\n",
              "    }\n",
              "\n",
              "    .dataframe thead th {\n",
              "        text-align: right;\n",
              "    }\n",
              "</style>\n",
              "<table border=\"1\" class=\"dataframe\">\n",
              "  <thead>\n",
              "    <tr style=\"text-align: right;\">\n",
              "      <th></th>\n",
              "      <th>ArScore</th>\n",
              "      <th>ArRank</th>\n",
              "      <th>ErScore</th>\n",
              "      <th>ErRank</th>\n",
              "      <th>FsrScore</th>\n",
              "      <th>FsrRank</th>\n",
              "      <th>CpfScore</th>\n",
              "      <th>CpfRank</th>\n",
              "      <th>IfrScore</th>\n",
              "      <th>IfrRank</th>\n",
              "      <th>IsrScore</th>\n",
              "      <th>IsrRank</th>\n",
              "      <th>IrnScore</th>\n",
              "      <th>IrnRank</th>\n",
              "      <th>GerScore</th>\n",
              "      <th>GerRank</th>\n",
              "    </tr>\n",
              "  </thead>\n",
              "  <tbody>\n",
              "    <tr>\n",
              "      <th>ArScore</th>\n",
              "      <td>1.000000</td>\n",
              "      <td>-0.961467</td>\n",
              "      <td>0.839224</td>\n",
              "      <td>-0.798832</td>\n",
              "      <td>0.386934</td>\n",
              "      <td>-0.379851</td>\n",
              "      <td>0.566155</td>\n",
              "      <td>-0.563104</td>\n",
              "      <td>0.395697</td>\n",
              "      <td>-0.375458</td>\n",
              "      <td>0.393938</td>\n",
              "      <td>-0.389907</td>\n",
              "      <td>0.611973</td>\n",
              "      <td>-0.681504</td>\n",
              "      <td>0.569152</td>\n",
              "      <td>-0.561662</td>\n",
              "    </tr>\n",
              "    <tr>\n",
              "      <th>ArRank</th>\n",
              "      <td>-0.961467</td>\n",
              "      <td>1.000000</td>\n",
              "      <td>-0.802310</td>\n",
              "      <td>0.783904</td>\n",
              "      <td>-0.371249</td>\n",
              "      <td>0.365318</td>\n",
              "      <td>-0.555295</td>\n",
              "      <td>0.553649</td>\n",
              "      <td>-0.389543</td>\n",
              "      <td>0.368964</td>\n",
              "      <td>-0.377499</td>\n",
              "      <td>0.373950</td>\n",
              "      <td>-0.620839</td>\n",
              "      <td>0.691751</td>\n",
              "      <td>-0.535364</td>\n",
              "      <td>0.535250</td>\n",
              "    </tr>\n",
              "    <tr>\n",
              "      <th>ErScore</th>\n",
              "      <td>0.839224</td>\n",
              "      <td>-0.802310</td>\n",
              "      <td>1.000000</td>\n",
              "      <td>-0.970900</td>\n",
              "      <td>0.356681</td>\n",
              "      <td>-0.349258</td>\n",
              "      <td>0.431294</td>\n",
              "      <td>-0.433089</td>\n",
              "      <td>0.356700</td>\n",
              "      <td>-0.335801</td>\n",
              "      <td>0.365937</td>\n",
              "      <td>-0.364819</td>\n",
              "      <td>0.413478</td>\n",
              "      <td>-0.468329</td>\n",
              "      <td>0.575176</td>\n",
              "      <td>-0.561687</td>\n",
              "    </tr>\n",
              "    <tr>\n",
              "      <th>ErRank</th>\n",
              "      <td>-0.798832</td>\n",
              "      <td>0.783904</td>\n",
              "      <td>-0.970900</td>\n",
              "      <td>1.000000</td>\n",
              "      <td>-0.329248</td>\n",
              "      <td>0.323723</td>\n",
              "      <td>-0.415520</td>\n",
              "      <td>0.418193</td>\n",
              "      <td>-0.334295</td>\n",
              "      <td>0.315191</td>\n",
              "      <td>-0.343953</td>\n",
              "      <td>0.344028</td>\n",
              "      <td>-0.397970</td>\n",
              "      <td>0.452352</td>\n",
              "      <td>-0.547029</td>\n",
              "      <td>0.539877</td>\n",
              "    </tr>\n",
              "    <tr>\n",
              "      <th>FsrScore</th>\n",
              "      <td>0.386934</td>\n",
              "      <td>-0.371249</td>\n",
              "      <td>0.356681</td>\n",
              "      <td>-0.329248</td>\n",
              "      <td>1.000000</td>\n",
              "      <td>-0.982472</td>\n",
              "      <td>0.131013</td>\n",
              "      <td>-0.119692</td>\n",
              "      <td>0.182854</td>\n",
              "      <td>-0.168831</td>\n",
              "      <td>0.236357</td>\n",
              "      <td>-0.228403</td>\n",
              "      <td>0.154252</td>\n",
              "      <td>-0.193651</td>\n",
              "      <td>0.299399</td>\n",
              "      <td>-0.287153</td>\n",
              "    </tr>\n",
              "    <tr>\n",
              "      <th>FsrRank</th>\n",
              "      <td>-0.379851</td>\n",
              "      <td>0.365318</td>\n",
              "      <td>-0.349258</td>\n",
              "      <td>0.323723</td>\n",
              "      <td>-0.982472</td>\n",
              "      <td>1.000000</td>\n",
              "      <td>-0.125882</td>\n",
              "      <td>0.114001</td>\n",
              "      <td>-0.173803</td>\n",
              "      <td>0.159279</td>\n",
              "      <td>-0.231691</td>\n",
              "      <td>0.224001</td>\n",
              "      <td>-0.155213</td>\n",
              "      <td>0.193762</td>\n",
              "      <td>-0.282769</td>\n",
              "      <td>0.271224</td>\n",
              "    </tr>\n",
              "    <tr>\n",
              "      <th>CpfScore</th>\n",
              "      <td>0.566155</td>\n",
              "      <td>-0.555295</td>\n",
              "      <td>0.431294</td>\n",
              "      <td>-0.415520</td>\n",
              "      <td>0.131013</td>\n",
              "      <td>-0.125882</td>\n",
              "      <td>1.000000</td>\n",
              "      <td>-0.986306</td>\n",
              "      <td>0.441585</td>\n",
              "      <td>-0.432709</td>\n",
              "      <td>0.371739</td>\n",
              "      <td>-0.362746</td>\n",
              "      <td>0.601888</td>\n",
              "      <td>-0.555411</td>\n",
              "      <td>0.364862</td>\n",
              "      <td>-0.352067</td>\n",
              "    </tr>\n",
              "    <tr>\n",
              "      <th>CpfRank</th>\n",
              "      <td>-0.563104</td>\n",
              "      <td>0.553649</td>\n",
              "      <td>-0.433089</td>\n",
              "      <td>0.418193</td>\n",
              "      <td>-0.119692</td>\n",
              "      <td>0.114001</td>\n",
              "      <td>-0.986306</td>\n",
              "      <td>1.000000</td>\n",
              "      <td>-0.438456</td>\n",
              "      <td>0.429998</td>\n",
              "      <td>-0.368667</td>\n",
              "      <td>0.361758</td>\n",
              "      <td>-0.570065</td>\n",
              "      <td>0.548166</td>\n",
              "      <td>-0.362061</td>\n",
              "      <td>0.350846</td>\n",
              "    </tr>\n",
              "    <tr>\n",
              "      <th>IfrScore</th>\n",
              "      <td>0.395697</td>\n",
              "      <td>-0.389543</td>\n",
              "      <td>0.356700</td>\n",
              "      <td>-0.334295</td>\n",
              "      <td>0.182854</td>\n",
              "      <td>-0.173803</td>\n",
              "      <td>0.441585</td>\n",
              "      <td>-0.438456</td>\n",
              "      <td>1.000000</td>\n",
              "      <td>-0.990522</td>\n",
              "      <td>0.711052</td>\n",
              "      <td>-0.705149</td>\n",
              "      <td>0.399599</td>\n",
              "      <td>-0.438511</td>\n",
              "      <td>0.330761</td>\n",
              "      <td>-0.332630</td>\n",
              "    </tr>\n",
              "    <tr>\n",
              "      <th>IfrRank</th>\n",
              "      <td>-0.375458</td>\n",
              "      <td>0.368964</td>\n",
              "      <td>-0.335801</td>\n",
              "      <td>0.315191</td>\n",
              "      <td>-0.168831</td>\n",
              "      <td>0.159279</td>\n",
              "      <td>-0.432709</td>\n",
              "      <td>0.429998</td>\n",
              "      <td>-0.990522</td>\n",
              "      <td>1.000000</td>\n",
              "      <td>-0.701595</td>\n",
              "      <td>0.697724</td>\n",
              "      <td>-0.376042</td>\n",
              "      <td>0.415545</td>\n",
              "      <td>-0.325058</td>\n",
              "      <td>0.327764</td>\n",
              "    </tr>\n",
              "    <tr>\n",
              "      <th>IsrScore</th>\n",
              "      <td>0.393938</td>\n",
              "      <td>-0.377499</td>\n",
              "      <td>0.365937</td>\n",
              "      <td>-0.343953</td>\n",
              "      <td>0.236357</td>\n",
              "      <td>-0.231691</td>\n",
              "      <td>0.371739</td>\n",
              "      <td>-0.368667</td>\n",
              "      <td>0.711052</td>\n",
              "      <td>-0.701595</td>\n",
              "      <td>1.000000</td>\n",
              "      <td>-0.990616</td>\n",
              "      <td>0.363320</td>\n",
              "      <td>-0.393909</td>\n",
              "      <td>0.314048</td>\n",
              "      <td>-0.312152</td>\n",
              "    </tr>\n",
              "    <tr>\n",
              "      <th>IsrRank</th>\n",
              "      <td>-0.389907</td>\n",
              "      <td>0.373950</td>\n",
              "      <td>-0.364819</td>\n",
              "      <td>0.344028</td>\n",
              "      <td>-0.228403</td>\n",
              "      <td>0.224001</td>\n",
              "      <td>-0.362746</td>\n",
              "      <td>0.361758</td>\n",
              "      <td>-0.705149</td>\n",
              "      <td>0.697724</td>\n",
              "      <td>-0.990616</td>\n",
              "      <td>1.000000</td>\n",
              "      <td>-0.349512</td>\n",
              "      <td>0.380799</td>\n",
              "      <td>-0.310649</td>\n",
              "      <td>0.309443</td>\n",
              "    </tr>\n",
              "    <tr>\n",
              "      <th>IrnScore</th>\n",
              "      <td>0.611973</td>\n",
              "      <td>-0.620839</td>\n",
              "      <td>0.413478</td>\n",
              "      <td>-0.397970</td>\n",
              "      <td>0.154252</td>\n",
              "      <td>-0.155213</td>\n",
              "      <td>0.601888</td>\n",
              "      <td>-0.570065</td>\n",
              "      <td>0.399599</td>\n",
              "      <td>-0.376042</td>\n",
              "      <td>0.363320</td>\n",
              "      <td>-0.349512</td>\n",
              "      <td>1.000000</td>\n",
              "      <td>-0.855051</td>\n",
              "      <td>0.257993</td>\n",
              "      <td>-0.254635</td>\n",
              "    </tr>\n",
              "    <tr>\n",
              "      <th>IrnRank</th>\n",
              "      <td>-0.681504</td>\n",
              "      <td>0.691751</td>\n",
              "      <td>-0.468329</td>\n",
              "      <td>0.452352</td>\n",
              "      <td>-0.193651</td>\n",
              "      <td>0.193762</td>\n",
              "      <td>-0.555411</td>\n",
              "      <td>0.548166</td>\n",
              "      <td>-0.438511</td>\n",
              "      <td>0.415545</td>\n",
              "      <td>-0.393909</td>\n",
              "      <td>0.380799</td>\n",
              "      <td>-0.855051</td>\n",
              "      <td>1.000000</td>\n",
              "      <td>-0.333111</td>\n",
              "      <td>0.331683</td>\n",
              "    </tr>\n",
              "    <tr>\n",
              "      <th>GerScore</th>\n",
              "      <td>0.569152</td>\n",
              "      <td>-0.535364</td>\n",
              "      <td>0.575176</td>\n",
              "      <td>-0.547029</td>\n",
              "      <td>0.299399</td>\n",
              "      <td>-0.282769</td>\n",
              "      <td>0.364862</td>\n",
              "      <td>-0.362061</td>\n",
              "      <td>0.330761</td>\n",
              "      <td>-0.325058</td>\n",
              "      <td>0.314048</td>\n",
              "      <td>-0.310649</td>\n",
              "      <td>0.257993</td>\n",
              "      <td>-0.333111</td>\n",
              "      <td>1.000000</td>\n",
              "      <td>-0.978486</td>\n",
              "    </tr>\n",
              "    <tr>\n",
              "      <th>GerRank</th>\n",
              "      <td>-0.561662</td>\n",
              "      <td>0.535250</td>\n",
              "      <td>-0.561687</td>\n",
              "      <td>0.539877</td>\n",
              "      <td>-0.287153</td>\n",
              "      <td>0.271224</td>\n",
              "      <td>-0.352067</td>\n",
              "      <td>0.350846</td>\n",
              "      <td>-0.332630</td>\n",
              "      <td>0.327764</td>\n",
              "      <td>-0.312152</td>\n",
              "      <td>0.309443</td>\n",
              "      <td>-0.254635</td>\n",
              "      <td>0.331683</td>\n",
              "      <td>-0.978486</td>\n",
              "      <td>1.000000</td>\n",
              "    </tr>\n",
              "  </tbody>\n",
              "</table>\n",
              "</div>\n",
              "      <button class=\"colab-df-convert\" onclick=\"convertToInteractive('df-3f0759aa-c5ee-4e06-ad18-bba0a0a32536')\"\n",
              "              title=\"Convert this dataframe to an interactive table.\"\n",
              "              style=\"display:none;\">\n",
              "        \n",
              "  <svg xmlns=\"http://www.w3.org/2000/svg\" height=\"24px\"viewBox=\"0 0 24 24\"\n",
              "       width=\"24px\">\n",
              "    <path d=\"M0 0h24v24H0V0z\" fill=\"none\"/>\n",
              "    <path d=\"M18.56 5.44l.94 2.06.94-2.06 2.06-.94-2.06-.94-.94-2.06-.94 2.06-2.06.94zm-11 1L8.5 8.5l.94-2.06 2.06-.94-2.06-.94L8.5 2.5l-.94 2.06-2.06.94zm10 10l.94 2.06.94-2.06 2.06-.94-2.06-.94-.94-2.06-.94 2.06-2.06.94z\"/><path d=\"M17.41 7.96l-1.37-1.37c-.4-.4-.92-.59-1.43-.59-.52 0-1.04.2-1.43.59L10.3 9.45l-7.72 7.72c-.78.78-.78 2.05 0 2.83L4 21.41c.39.39.9.59 1.41.59.51 0 1.02-.2 1.41-.59l7.78-7.78 2.81-2.81c.8-.78.8-2.07 0-2.86zM5.41 20L4 18.59l7.72-7.72 1.47 1.35L5.41 20z\"/>\n",
              "  </svg>\n",
              "      </button>\n",
              "      \n",
              "  <style>\n",
              "    .colab-df-container {\n",
              "      display:flex;\n",
              "      flex-wrap:wrap;\n",
              "      gap: 12px;\n",
              "    }\n",
              "\n",
              "    .colab-df-convert {\n",
              "      background-color: #E8F0FE;\n",
              "      border: none;\n",
              "      border-radius: 50%;\n",
              "      cursor: pointer;\n",
              "      display: none;\n",
              "      fill: #1967D2;\n",
              "      height: 32px;\n",
              "      padding: 0 0 0 0;\n",
              "      width: 32px;\n",
              "    }\n",
              "\n",
              "    .colab-df-convert:hover {\n",
              "      background-color: #E2EBFA;\n",
              "      box-shadow: 0px 1px 2px rgba(60, 64, 67, 0.3), 0px 1px 3px 1px rgba(60, 64, 67, 0.15);\n",
              "      fill: #174EA6;\n",
              "    }\n",
              "\n",
              "    [theme=dark] .colab-df-convert {\n",
              "      background-color: #3B4455;\n",
              "      fill: #D2E3FC;\n",
              "    }\n",
              "\n",
              "    [theme=dark] .colab-df-convert:hover {\n",
              "      background-color: #434B5C;\n",
              "      box-shadow: 0px 1px 3px 1px rgba(0, 0, 0, 0.15);\n",
              "      filter: drop-shadow(0px 1px 2px rgba(0, 0, 0, 0.3));\n",
              "      fill: #FFFFFF;\n",
              "    }\n",
              "  </style>\n",
              "\n",
              "      <script>\n",
              "        const buttonEl =\n",
              "          document.querySelector('#df-3f0759aa-c5ee-4e06-ad18-bba0a0a32536 button.colab-df-convert');\n",
              "        buttonEl.style.display =\n",
              "          google.colab.kernel.accessAllowed ? 'block' : 'none';\n",
              "\n",
              "        async function convertToInteractive(key) {\n",
              "          const element = document.querySelector('#df-3f0759aa-c5ee-4e06-ad18-bba0a0a32536');\n",
              "          const dataTable =\n",
              "            await google.colab.kernel.invokeFunction('convertToInteractive',\n",
              "                                                     [key], {});\n",
              "          if (!dataTable) return;\n",
              "\n",
              "          const docLinkHtml = 'Like what you see? Visit the ' +\n",
              "            '<a target=\"_blank\" href=https://colab.research.google.com/notebooks/data_table.ipynb>data table notebook</a>'\n",
              "            + ' to learn more about interactive tables.';\n",
              "          element.innerHTML = '';\n",
              "          dataTable['output_type'] = 'display_data';\n",
              "          await google.colab.output.renderOutput(dataTable, element);\n",
              "          const docLink = document.createElement('div');\n",
              "          docLink.innerHTML = docLinkHtml;\n",
              "          element.appendChild(docLink);\n",
              "        }\n",
              "      </script>\n",
              "    </div>\n",
              "  </div>\n",
              "  "
            ]
          },
          "metadata": {},
          "execution_count": 96
        }
      ]
    },
    {
      "cell_type": "code",
      "source": [
        "df2.hist(bins=50, figsize=(18,15))\n",
        "plt.show()"
      ],
      "metadata": {
        "colab": {
          "base_uri": "https://localhost:8080/",
          "height": 878
        },
        "id": "_mW6DfSCDF1L",
        "outputId": "fd1c4507-6a3a-48f1-ae00-2cc0b4357fa0"
      },
      "execution_count": null,
      "outputs": [
        {
          "output_type": "display_data",
          "data": {
            "text/plain": [
              "<Figure size 1296x1080 with 16 Axes>"
            ],
            "image/png": "[encoded data removed]"
          },
          "metadata": {}
        }
      ]
    },
    {
      "cell_type": "code",
      "source": [
        "df2.shape[1] # pega a última coluna"
      ],
      "metadata": {
        "colab": {
          "base_uri": "https://localhost:8080/"
        },
        "id": "N5lO7xtMHGuC",
        "outputId": "67cb5690-c30e-4bcd-e156-a9fb253a0b2f"
      },
      "execution_count": null,
      "outputs": [
        {
          "output_type": "execute_result",
          "data": {
            "text/plain": [
              "21"
            ]
          },
          "metadata": {},
          "execution_count": 98
        }
      ]
    },
    {
      "cell_type": "code",
      "source": [
        "x = df2.iloc[:, 0:-1]\n",
        "y = df2[\"ScoreScaled\"]"
      ],
      "metadata": {
        "id": "XXlzSeNaDKFK"
      },
      "execution_count": null,
      "outputs": []
    },
    {
      "cell_type": "code",
      "source": [
        "from sklearn import preprocessing\n",
        "# Institution,LocationCode,Location\n",
        "le = preprocessing.LabelEncoder()\n",
        "x['Institution']  = le.fit_transform(x['Institution'])\n",
        "x['LocationCode']  = le.fit_transform(x['LocationCode'])\n",
        "x['Location']  = le.fit_transform(x['Location'])"
      ],
      "metadata": {
        "id": "WhWaRye4HWLo"
      },
      "execution_count": null,
      "outputs": []
    },
    {
      "cell_type": "code",
      "source": [
        "X_train, X_test, y_train, y_test = train_test_split(x, y, test_size=0.25, random_state=0)"
      ],
      "metadata": {
        "id": "KGGyzLNvDlI6"
      },
      "execution_count": null,
      "outputs": []
    },
    {
      "cell_type": "code",
      "source": [
        "print(X_train.shape)"
      ],
      "metadata": {
        "colab": {
          "base_uri": "https://localhost:8080/"
        },
        "id": "mJ6Uyg_mIEk-",
        "outputId": "cfacee69-e3b3-44a3-9e36-a36e8078c85f"
      },
      "execution_count": null,
      "outputs": [
        {
          "output_type": "stream",
          "name": "stdout",
          "text": [
            "(935, 20)\n"
          ]
        }
      ]
    },
    {
      "cell_type": "code",
      "source": [
        "plt.plot(X_train.iloc[:, 0])\n",
        "plt.show()"
      ],
      "metadata": {
        "colab": {
          "base_uri": "https://localhost:8080/",
          "height": 347
        },
        "id": "ORevFCeyIUjH",
        "outputId": "cf61c332-f881-48fa-d3d7-55866fd9a619"
      },
      "execution_count": null,
      "outputs": [
        {
          "output_type": "display_data",
          "data": {
            "text/plain": [
              "<Figure size 576x396 with 1 Axes>"
            ],
            "image/png": "[encoded data removed]"
          },
          "metadata": {}
        }
      ]
    },
    {
      "cell_type": "code",
      "source": [
        "scaler1 = StandardScaler()\n",
        "scaler2 = MinMaxScaler()"
      ],
      "metadata": {
        "id": "jF2FsVsiJuNI"
      },
      "execution_count": null,
      "outputs": []
    },
    {
      "cell_type": "code",
      "source": [
        "scaler = MinMaxScaler(feature_range=(0, 1))\n",
        "X_train = scaler.fit_transform(X_train)\n",
        "X_test = scaler.transform(X_test)"
      ],
      "metadata": {
        "id": "ytPfZCARGQCf"
      },
      "execution_count": null,
      "outputs": []
    },
    {
      "cell_type": "code",
      "source": [
        "plt.plot(X_train[:, 0])\n",
        "plt.show()"
      ],
      "metadata": {
        "colab": {
          "base_uri": "https://localhost:8080/",
          "height": 347
        },
        "id": "KFanjc6YKO_I",
        "outputId": "f4dd170d-f12e-44b5-f95e-915b797e8715"
      },
      "execution_count": null,
      "outputs": [
        {
          "output_type": "display_data",
          "data": {
            "text/plain": [
              "<Figure size 576x396 with 1 Axes>"
            ],
            "image/png": "[encoded data removed]"
          },
          "metadata": {}
        }
      ]
    },
    {
      "cell_type": "code",
      "source": [
        "redutor = PCA(2)"
      ],
      "metadata": {
        "id": "HRIcOEb7K3TQ"
      },
      "execution_count": null,
      "outputs": []
    },
    {
      "cell_type": "code",
      "source": [
        "X_train = redutor.fit_transform(X_train)\n",
        "print(X_train.shape)"
      ],
      "metadata": {
        "colab": {
          "base_uri": "https://localhost:8080/"
        },
        "id": "cwjTSRTzK6So",
        "outputId": "440f352c-41bf-41d7-d800-1a6f0feccdc9"
      },
      "execution_count": null,
      "outputs": [
        {
          "output_type": "stream",
          "name": "stdout",
          "text": [
            "(935, 2)\n"
          ]
        }
      ]
    },
    {
      "cell_type": "code",
      "source": [
        "X_test = redutor.transform(X_test)\n",
        "print(X_test.shape)"
      ],
      "metadata": {
        "colab": {
          "base_uri": "https://localhost:8080/"
        },
        "id": "29L6gXsZLWuI",
        "outputId": "97de554e-2673-4509-9572-ab560280aead"
      },
      "execution_count": null,
      "outputs": [
        {
          "output_type": "stream",
          "name": "stdout",
          "text": [
            "(312, 2)\n"
          ]
        }
      ]
    },
    {
      "cell_type": "code",
      "source": [
        "from yellowbrick.cluster import KElbowVisualizer\n",
        "\n",
        "visualizador_k = KElbowVisualizer(KMeans(), k=(2, 15), metric='silhouette')"
      ],
      "metadata": {
        "id": "OSKS4WBtLrTH"
      },
      "execution_count": null,
      "outputs": []
    },
    {
      "cell_type": "code",
      "source": [
        "visualizador_k.fit(X_train)\n",
        "visualizador_k.show()"
      ],
      "metadata": {
        "colab": {
          "base_uri": "https://localhost:8080/",
          "height": 393
        },
        "id": "qPQacO5RMQT_",
        "outputId": "c29ced6f-d11a-4d7e-fb92-5b33bc98dbd7"
      },
      "execution_count": null,
      "outputs": [
        {
          "output_type": "display_data",
          "data": {
            "text/plain": [
              "<Figure size 576x396 with 2 Axes>"
            ],
            "image/png": "[encoded data removed]"
          },
          "metadata": {}
        },
        {
          "output_type": "execute_result",
          "data": {
            "text/plain": [
              "<matplotlib.axes._subplots.AxesSubplot at 0x7f9abe443cd0>"
            ]
          },
          "metadata": {},
          "execution_count": 114
        }
      ]
    },
    {
      "cell_type": "code",
      "source": [
        "km = KMeans(n_clusters=2)\n",
        "\n",
        "rotulo = km.fit_predict(X_train)"
      ],
      "metadata": {
        "id": "cBSKZYzmNNYO"
      },
      "execution_count": null,
      "outputs": []
    },
    {
      "cell_type": "code",
      "source": [
        "print(rotulo)"
      ],
      "metadata": {
        "id": "t2LLxbrdNcRn"
      },
      "execution_count": null,
      "outputs": []
    },
    {
      "cell_type": "code",
      "source": [
        "centros = km.cluster_centers_\n",
        "\n",
        "unico = np.unique(rotulo)"
      ],
      "metadata": {
        "id": "-nrai_08Nl6u"
      },
      "execution_count": null,
      "outputs": []
    },
    {
      "cell_type": "code",
      "source": [],
      "metadata": {
        "id": "o5JEHIekN1pO"
      },
      "execution_count": null,
      "outputs": []
    },
    {
      "cell_type": "code",
      "source": [
        "# X_train = pd.DataFrame(X_train)\n",
        "# X_train.columns('Rank','Institution','LocationCode','Location','ArScore','ArRank','ErScore','ErRank','FsrScore','FsrRank','CpfScore','CpfRank','IfrScore','IfrRank','IsrScore','IsrRank','IrnScore','IrnRank','GerScore','GerRank')"
      ],
      "metadata": {
        "id": "qWSFRo3yOAXC"
      },
      "execution_count": null,
      "outputs": []
    },
    {
      "cell_type": "code",
      "source": [
        "# df2.plot(kind='scatter', x='ArScore', y='ScoreScaled', alpha=0.4, figsize=(10,7), cmap=plt.get_cmap('jet'), colorbar=True)\n",
        "# plt.legend\n",
        "# plt.show()"
      ],
      "metadata": {
        "id": "e6iLhJjkEDc6"
      },
      "execution_count": null,
      "outputs": []
    }
  ]
}